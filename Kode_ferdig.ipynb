{
 "cells": [
  {
   "cell_type": "markdown",
   "metadata": {},
   "source": [
    "# Forberedelser"
   ]
  },
  {
   "cell_type": "code",
   "execution_count": 13,
   "metadata": {},
   "outputs": [],
   "source": [
    "#Importerer arcpy\n",
    "import arcpy\n",
    "\n",
    "#Definerer koordinatsystem\n",
    "ETRS_1989_UTM_Zone_32N = arcpy.SpatialReference(25832)\n",
    "\n",
    "#Definerer hvor resultatene skal lagres\n",
    "resultat_gdb = r\"C:\\test_master\\test\\test.gdb\"\n",
    "\n",
    "arcpy.env.workspace = r\"C:\\test_master\\test\\test.gdb\"\n",
    "\n",
    "#Dersom koden kjøres flere ganger vil resultater overskrives\n",
    "arcpy.env.overwriteOutput = True"
   ]
  },
  {
   "cell_type": "markdown",
   "metadata": {},
   "source": [
    "## Klargjøring av data"
   ]
  },
  {
   "cell_type": "code",
   "execution_count": null,
   "metadata": {},
   "outputs": [],
   "source": [
    "#Manuelt: legg til vann og kommunes grenser i kartet\n",
    "\n",
    "#Legge vann og kommunens grenser i geodatabasen\n",
    "arcpy.conversion.FeatureClassToGeodatabase(\"Vann; Fredrikstad\", \n",
    "                                           resultat_gdb)\n",
    "\n",
    "#Klippe vann til kommunes grenser\n",
    "arcpy.Clip_analysis(\"Vann\", \n",
    "                    \"Fredrikstad\", \n",
    "                    \"Vann_frstd\")\n",
    "\n",
    "#Definere studieområde for høydemodell\n",
    "arcpy.management.SelectLayerByAttribute(\"Vann_Frstd\", \n",
    "                                        \"NEW_SELECTION\", \n",
    "                                        \"objtype = 'Havflate' Or objtype = 'Elv' \", \n",
    "                                        None)\n",
    "\n",
    "arcpy.conversion.ExportFeatures(\"Vann_Frstd\", \n",
    "                                \"HavElv_Frstd\", \n",
    "                                \"\", \"\", \"\", \"\")\n",
    "\n",
    "#Klippe bort hav og elv fra studieområdet\n",
    "arcpy.analysis.Erase(\"Fredrikstad\", \n",
    "                     \"HavElv_Frstd\", \n",
    "                     \"Frstd_uHavElv\", \n",
    "                     None)\n",
    "\n",
    "#Benytter denne dersom det dannes sliver polygoner\n",
    "    #For å sette xy-toleranse måles sliver polygonene\n",
    "with arcpy.EnvManager(XYTolerance=\"0.05 Meters\"):\n",
    "    arcpy.analysis.Erase(\"Fredrikstad\", \n",
    "                         \"HavElv_Frstd\", \n",
    "                         \"Frstd_uHavElv\", \n",
    "                         None)"
   ]
  },
  {
   "cell_type": "code",
   "execution_count": 11,
   "metadata": {},
   "outputs": [],
   "source": [
    "#Manuelt: Legger til grunnforurensning i kartet\n",
    "\n",
    "#Legge inn grunnforurensing i geodatabasen\n",
    "arcpy.conversion.FeatureClassToGeodatabase(\"Grunnforurensning\", \n",
    "                                           resultat_gdb)\n",
    "\n",
    "#Klippe grunnforurensing til kommunens grenser\n",
    "arcpy.analysis.Clip(\"Grunnforurensning\", \n",
    "                    \"Fredrikstad\", \n",
    "                    \"GF_Frstd\", \n",
    "                    None)\n",
    "\n",
    "#Lage individuelle lag for de ulike påvirkningsgradene\n",
    "paavirkningsgrader = {'GF3': 'ikkeAkseptabelForurensning', 'GF2':'akseptabelForurensning', 'GF1':'liteForurensning', 'GFX':'ukjentPåvirkning'}\n",
    "\n",
    "for paav_kode, paav_navn in paavirkningsgrader.items(): \n",
    "    arcpy.management.SelectLayerByAttribute(\"GF_frstd\", \n",
    "                                            \"NEW_SELECTION\", \n",
    "                                            f\"påvirkningsgrad='{paav_navn}'\", \n",
    "                                            None)\n",
    "    \n",
    "    arcpy.conversion.ExportFeatures(\"GF_frstd\", \n",
    "                                    f\"GF{paav_kode[-1]}\", \n",
    "                                    \"\", \"\", \"\", \"\")"
   ]
  },
  {
   "cell_type": "code",
   "execution_count": 13,
   "metadata": {},
   "outputs": [],
   "source": [
    "#Manuelt: legg til alle de sårbare områdene i kartet\n",
    "\n",
    "#Importere sårbare lag til geodatabase\n",
    "arcpy.conversion.FeatureClassToGeodatabase(\"SikraFriOm;Badepls;Beiteomr;DrikkOverflate;jordbruk;Kulturlandskp;NattypNiN;Naturtyp13;Bygg;Sti\", resultat_gdb)\n",
    "\n",
    "#Klippe alle lagene for sårbarhet til kommunens grenser\n",
    "\n",
    "saarbarheter = [\"Badepls\", \"Beiteomr\", \"Bygg\", \"DrikkOverflate\", \"jordbruk\", \"Kulturlandskp\", \"NattypNiN\", \"Naturtyp13\", \"SikraFriOm\", \"Sti\"]\n",
    "kommune = \"Fredrikstad\"\n",
    "\n",
    "for saarbarhet in saarbarheter:\n",
    "    input_feature = f\"{saarbarhet}\"\n",
    "    output_feature = f\"{saarbarhet}_frstd\"\n",
    "    arcpy.Clip_analysis(\n",
    "        input_feature, \n",
    "        kommune, \n",
    "        output_feature\n",
    "    )"
   ]
  },
  {
   "cell_type": "code",
   "execution_count": null,
   "metadata": {},
   "outputs": [],
   "source": [
    "#Lage buffer rundt sårbare linje-temalag\n",
    "arcpy.analysis.Buffer(\"Sti_frstd\", \n",
    "                      \"Sti5_frstd\", \n",
    "                      \"5 Meters\", \n",
    "                      \"FULL\", \n",
    "                      \"ROUND\",\n",
    "                      \"\", \n",
    "                      \"\", \n",
    "                      \"PLANAR\")"
   ]
  },
  {
   "cell_type": "code",
   "execution_count": 15,
   "metadata": {},
   "outputs": [
    {
     "data": {
      "text/html": [
       "<div class='gpresult'><h2>Messages</h2><div id='messages' data-messages='[\"Start Time: fredag 29. mars 2024 11:59:48\",\"Succeeded at fredag 29. mars 2024 11:59:48 (Elapsed Time: 0,06 seconds)\"]' data-show='true'><div id = 'default' /></div></div>"
      ],
      "text/plain": [
       "<Result 'Vann_frstd'>"
      ]
     },
     "execution_count": 15,
     "metadata": {},
     "output_type": "execute_result"
    }
   ],
   "source": [
    "#Lage nye lag for hav og elv\n",
    "\n",
    "#Lage et nytt polygontemalag for hav\n",
    "arcpy.management.SelectLayerByAttribute(\"Vann_frstd\", \n",
    "                                        \"NEW_SELECTION\", \n",
    "                                        \"objtype = 'Havflate' \", \n",
    "                                        None)\n",
    "\n",
    "arcpy.conversion.ExportFeatures(\"Vann_frstd\", \n",
    "                                \"Hav_frstd\", \n",
    "                                \"\", \"\", \"\", \"\")\n",
    "\n",
    "arcpy.SelectLayerByAttribute_management(\"Vann_frstd\", \n",
    "                                        \"CLEAR_SELECTION\")\n",
    "\n",
    "#Lage et nytt polygontemalag for elv\n",
    "arcpy.management.SelectLayerByAttribute(\"Vann_frstd\", \n",
    "                                        \"NEW_SELECTION\", \n",
    "                                        \"objtype = 'Elv'\", \n",
    "                                        None)\n",
    "\n",
    "arcpy.conversion.ExportFeatures(\"Vann_frstd\", \"Elv_frstd\", \n",
    "                                \"\", \"\", \"\", \"\")\n",
    "\n",
    "arcpy.SelectLayerByAttribute_management(\"Vann_frstd\", \n",
    "                                        \"CLEAR_SELECTION\")\n"
   ]
  },
  {
   "cell_type": "markdown",
   "metadata": {},
   "source": [
    "## Lage DHM"
   ]
  },
  {
   "cell_type": "code",
   "execution_count": 16,
   "metadata": {},
   "outputs": [
    {
     "data": {
      "text/html": [
       "<div class='gpresult'><h2>Messages</h2><div id='messages' data-messages='[\"Start Time: fredag 29. mars 2024 12:02:49\",\"Successfully converted:  dtm1_33_125_110_tif To C:\\\\test_master\\\\test\\\\test.gdb\\\\dtm1_33_125_110_tif\",\"Successfully converted:  dtm1_33_125_109_tif To C:\\\\test_master\\\\test\\\\test.gdb\\\\dtm1_33_125_109_tif\",\"Successfully converted:  dtm1_33_125_108_tif To C:\\\\test_master\\\\test\\\\test.gdb\\\\dtm1_33_125_108_tif\",\"Successfully converted:  dtm1_33_124_110_tif To C:\\\\test_master\\\\test\\\\test.gdb\\\\dtm1_33_124_110_tif\",\"Successfully converted:  dtm1_33_124_109_tif To C:\\\\test_master\\\\test\\\\test.gdb\\\\dtm1_33_124_109_tif\",\"Successfully converted:  dtm1_33_124_108_tif To C:\\\\test_master\\\\test\\\\test.gdb\\\\dtm1_33_124_108_tif\",\"Successfully converted:  dtm1_33_123_110_tif To C:\\\\test_master\\\\test\\\\test.gdb\\\\dtm1_33_123_110_tif\",\"Successfully converted:  dtm1_33_123_109_tif To C:\\\\test_master\\\\test\\\\test.gdb\\\\dtm1_33_123_109_tif\",\"Successfully converted:  dtm1_33_123_108_tif To C:\\\\test_master\\\\test\\\\test.gdb\\\\dtm1_33_123_108_tif\",\"Succeeded at fredag 29. mars 2024 12:07:00 (Elapsed Time: 4 minutes 11 seconds)\"]' data-show='true'><div id = 'default' /></div></div>"
      ],
      "text/plain": [
       "<Result ''>"
      ]
     },
     "execution_count": 16,
     "metadata": {},
     "output_type": "execute_result"
    }
   ],
   "source": [
    "#Manuelt: legge til alle tif-filene for høydedata i kartet\n",
    "\n",
    "#Importere tif-filene til geodatabasen\n",
    "input_rasters = \"dtm1_33_125_110_tif;dtm1_33_125_109_tif;dtm1_33_125_108_tif;dtm1_33_124_110_tif;dtm1_33_124_109_tif;dtm1_33_124_108_tif;dtm1_33_123_110_tif;dtm1_33_123_109_tif;dtm1_33_123_108_tif\"\n",
    "arcpy.conversion.RasterToGeodatabase(input_rasters, \n",
    "                                     resultat_gdb, \n",
    "                                     \"\")"
   ]
  },
  {
   "cell_type": "code",
   "execution_count": 18,
   "metadata": {},
   "outputs": [
    {
     "data": {
      "text/html": [
       "<div class='gpresult'><h2>Messages</h2><div id='messages' data-messages='[\"Start Time: fredag 29. mars 2024 12:27:53\",\"dtm1_33_123_108_tif is loading...\",\"dtm1_33_123_109_tif is loading...\",\"dtm1_33_123_110_tif is loading...\",\"dtm1_33_124_108_tif is loading...\",\"dtm1_33_124_109_tif is loading...\",\"dtm1_33_124_110_tif is loading...\",\"dtm1_33_125_108_tif is loading...\",\"dtm1_33_125_109_tif is loading...\",\"dtm1_33_125_110_tif is loading...\",\"Succeeded at fredag 29. mars 2024 12:50:11 (Elapsed Time: 22 minutes 17 seconds)\"]' data-show='true'><div id = 'default' /></div></div>"
      ],
      "text/plain": [
       "<Result 'C:\\\\test_master\\\\test\\\\test.gdb\\\\DHM_UTM32'>"
      ]
     },
     "execution_count": 18,
     "metadata": {},
     "output_type": "execute_result"
    }
   ],
   "source": [
    "#Setter sammen de ulike tif-filene til en høydemodell\n",
    "input_rasters = \"dtm1_33_123_108_tif;dtm1_33_123_109_tif;dtm1_33_123_110_tif;dtm1_33_124_108_tif;dtm1_33_124_109_tif;dtm1_33_124_110_tif;dtm1_33_125_108_tif;dtm1_33_125_109_tif;dtm1_33_125_110_tif\"\n",
    "\n",
    "arcpy.management.MosaicToNewRaster(input_rasters,\n",
    "                                    resultat_gdb,\n",
    "                                    \"DHM_UTM32\",\n",
    "                                    ETRS_1989_UTM_Zone_32N,\n",
    "                                    \"32_BIT_FLOAT\",\n",
    "                                    1,\n",
    "                                    1,\n",
    "                                    \"MEAN\", \n",
    "                                    \"FIRST\")"
   ]
  },
  {
   "cell_type": "code",
   "execution_count": 19,
   "metadata": {},
   "outputs": [],
   "source": [
    "#Erstatte eventuelle null-verdier i høydemodellen\n",
    "\n",
    "#Definerer inngangsraster\n",
    "input_raster = \"DHM_UTM32\"\n",
    "\n",
    "#Definerer et nabolag av celler, og finner gjennomsnittsverdien i nabolagene\n",
    "rFocstat = arcpy.sa.FocalStatistics(input_raster, \n",
    "                                    arcpy.sa.NbrRectangle(7,7,\"CELL\"), \n",
    "                                    \"MEAN\")\n",
    "\n",
    "#Finner eventuelle null-verdier i inngangsrasteren\n",
    "rIsNull = arcpy.sa.IsNull(input_raster)\n",
    "\n",
    "#Eventuelle null verdier erstattes med gjennomsnittverdien for dette nabolaget\n",
    "DHM_null = arcpy.sa.Con(rIsNull, \n",
    "                         rFocstat, \n",
    "                         input_raster)\n",
    "\n",
    "#Lagrer resultatene fra de ulike verktøyene til geodatabasen\n",
    "rFocstat.save(\"rFocstat\")\n",
    "rIsNull.save(\"rIsNull\")\n",
    "DHM_null.save(\"DHM_null\")"
   ]
  },
  {
   "cell_type": "code",
   "execution_count": 7,
   "metadata": {},
   "outputs": [
    {
     "data": {
      "text/html": [
       "<div class='gpresult'><h2>Messages</h2><div id='messages' data-messages='[\"Start Time: fredag 29. mars 2024 17:12:49\",\"Building Pyramids...\",\"Succeeded at fredag 29. mars 2024 17:19:43 (Elapsed Time: 6 minutes 53 seconds)\"]' data-show='true'><div id = 'default' /></div></div>"
      ],
      "text/plain": [
       "<Result 'C:\\\\test_master\\\\test\\\\test.gdb\\\\DHM_uHavElv'>"
      ]
     },
     "execution_count": 7,
     "metadata": {},
     "output_type": "execute_result"
    }
   ],
   "source": [
    "#Klippe høydemodellen til studieområdet\n",
    "arcpy.management.Clip(\"DHM_null\", \n",
    "                      \"\", \n",
    "                      \"DHM_uHavElv\", \n",
    "                      \"Frstd_uHavElv\", \n",
    "                      \"\", \n",
    "                      \"ClippingGeometry\", \n",
    "                      \"NO_MAINTAIN_EXTENT\")"
   ]
  },
  {
   "cell_type": "markdown",
   "metadata": {},
   "source": [
    "# Del 1"
   ]
  },
  {
   "cell_type": "code",
   "execution_count": 12,
   "metadata": {},
   "outputs": [],
   "source": [
    "#Definerer innstillinger for samtlige nye rasterlag\n",
    "arcpy.env.cellSize = 1\n",
    "arcpy.env.snapRaster = \"DHM_uHavElv\"\n",
    "arcpy.env.extent = \"DHM_uHavElv\""
   ]
  },
  {
   "cell_type": "markdown",
   "metadata": {},
   "source": [
    "## Steg 1: Hydrologisk korreksjon av DHM"
   ]
  },
  {
   "cell_type": "code",
   "execution_count": 13,
   "metadata": {},
   "outputs": [],
   "source": [
    "#Fyller forsenkninger i høydemodellen\n",
    "rFill = arcpy.sa.Fill(\"DHM_uHavElv\", \n",
    "                      \"\")\n",
    "\n",
    "rFill.save('rFill')"
   ]
  },
  {
   "cell_type": "markdown",
   "metadata": {},
   "source": [
    "## Steg 2: Heve bygninger og legg til innsjøer"
   ]
  },
  {
   "cell_type": "code",
   "execution_count": 14,
   "metadata": {},
   "outputs": [],
   "source": [
    "#Inkluderer høyde på bygg i høydemodellen\n",
    "\n",
    "#Rasteriserer byggninger i studieområdet\n",
    "arcpy.conversion.PolygonToRaster(\"Bygg_frstd\", \n",
    "                                 \"OBJECTID\", \n",
    "                                 \"rBygg\", \n",
    "                                 \"MAXIMUM_AREA\", \n",
    "                                 \"\", \n",
    "                                 1, \n",
    "                                 \"BUILD\")\n",
    "\n",
    "#Reklassifisere bygningsrasteren\n",
    "rBygg_Reklass = arcpy.sa.Reclassify(in_raster=\"rBygg\",\n",
    "                                    reclass_field=\"Value\", \n",
    "                                    remap=\"1 74214 6;NODATA 0\", \n",
    "                                    missing_values=\"DATA\")\n",
    "rBygg_Reklass.save(\"rBygg_Reklass\")\n",
    "\n",
    "#Slå sammen høydemodellen med de reklassifiserte bygningene\n",
    "rBygg_Reklass = arcpy.Raster(\"rBygg_Reklass\")\n",
    "rFill = arcpy.Raster(\"rFill\")\n",
    "\n",
    "DHM_mBygg = arcpy.sa.Plus(in_raster_or_constant1=rBygg_Reklass, \n",
    "                          in_raster_or_constant2=rFill)\n",
    "DHM_mBygg.save(\"DHM_mBygg\")"
   ]
  },
  {
   "cell_type": "code",
   "execution_count": 15,
   "metadata": {},
   "outputs": [],
   "source": [
    "#Inkluderer høyde for innsjøer i høydemodellen\n",
    "\n",
    "#Lage et nytt polygontemalag for innsjø\n",
    "arcpy.management.SelectLayerByAttribute(\"Vann_Frstd\", \n",
    "                                        \"NEW_SELECTION\", \n",
    "                                        \"objtype = 'Innsjø'\", \n",
    "                                        None)\n",
    "\n",
    "arcpy.conversion.ExportFeatures(\"Vann_Frstd\", \"Innsjo_Frstd\", \n",
    "                                \"\", \"\", \"\", \"\")\n",
    "\n",
    "#Rasterisere innsjø i studieområdet\n",
    "arcpy.conversion.PolygonToRaster(\"Innsjo_Frstd\", \n",
    "                                 \"hoyde\", \n",
    "                                 \"rInnsjo\", \n",
    "                                 \"MAXIMUM_AREA\", \n",
    "                                 \"\", \n",
    "                                 1, \n",
    "                                 \"BUILD\")\n",
    "\n",
    "#Områder med innsjø blir tildelt verdien null\n",
    "rInnsjo_isNull = arcpy.sa.IsNull(\"rInnsjo\")\n",
    "rInnsjo_isNull.save(\"rInnsjo_isNull\")"
   ]
  },
  {
   "cell_type": "code",
   "execution_count": 16,
   "metadata": {},
   "outputs": [],
   "source": [
    "#Slå sammen rasterlag for høydemodellen med bygg og innsjø\n",
    "#Hvis null-verdier gis verdier fra innsjø, og hvis ikke tildeles verdier fra høydemodell med bygg\n",
    "rInnsjoBygg = arcpy.sa.Con(\"rInnsjo_isNull\", \n",
    "                           \"DHM_mBygg\", \n",
    "                           \"rInnsjo\", \n",
    "                           \"\")\n",
    "rInnsjoBygg.save(\"rInnsjoBygg\")"
   ]
  },
  {
   "cell_type": "markdown",
   "metadata": {},
   "source": [
    "## Steg 3: Dreneringsrettning"
   ]
  },
  {
   "cell_type": "code",
   "execution_count": 17,
   "metadata": {},
   "outputs": [
    {
     "data": {
      "text/html": [
       "<div class='gpresult'><h2>Messages</h2><div id='messages' data-messages='[\"Start Time: fredag 29. mars 2024 18:20:20\",\"Temporary data will be created in C:\\\\Users\\\\emili\\\\AppData\\\\Local\\\\Temp\\\\ArcGISProTemp14508\\\\s577a9713_93ce_4aeb_b5c1_ce7f03597087\",\"7\\u00A0434 MB of temporary storage is estimated to be needed. 120\\u00A0798 MB of storage is currently available.\",\"Distributing operation across 8 parallel instances.\",\"2024-03-29T18:20:46.558: Initialization Phase ...\",\"2024-03-29T18:21:04.236: Iteration Phase ...\",\"2024-03-29T18:21:11.147: Completion Phase ...\",\"4\\u00A0731 MB of temporary storage was used.\",\"Succeeded at fredag 29. mars 2024 18:21:44 (Elapsed Time: 1 minutes 24 seconds)\"]' data-show='true'><div id = 'default' /></div></div>"
      ],
      "text/plain": [
       "<geoprocessing server result object object at 0x000001E2079FCB10>"
      ]
     },
     "execution_count": 17,
     "metadata": {},
     "output_type": "execute_result"
    }
   ],
   "source": [
    "#Finner drenerningsrettninger\n",
    "arcpy.gp.FlowDirection_sa(\"rInnsjoBygg\", \n",
    "                          \"rFlowDir\", \n",
    "                          \"NORMAL\", \n",
    "                          \"\", \n",
    "                          \"D8\")"
   ]
  },
  {
   "cell_type": "markdown",
   "metadata": {},
   "source": [
    "## Steg 4: Akkumulering"
   ]
  },
  {
   "cell_type": "code",
   "execution_count": 19,
   "metadata": {},
   "outputs": [],
   "source": [
    "#Definerer påvirkningsgrader\n",
    "paavirkningsgrader = ['GF3', 'GF2', 'GF1', 'GFX']\n",
    "   \n",
    "for paavirkningsgrad in paavirkningsgrader:\n",
    "        \n",
    "    #Fjerner grensene mellom polygoner som overlapper, innad i hver påvirkningsgrad\n",
    "    arcpy.gapro.DissolveBoundaries(f\"{paavirkningsgrad}\", \n",
    "                                   f\"GF{paavirkningsgrad[-1]}_akkml\", \n",
    "                                   \"SINGLE_PART\", \n",
    "                                   None, None, None)\n",
    "        \n",
    "    #Kombinerer polygontemalaget for studieområdet og hver av de ulike påvirkningsgradene\n",
    "    arcpy.analysis.Update(\"Fredrikstad\", \n",
    "                          f\"{paavirkningsgrad}_akkml\", \n",
    "                          f\"Frstd_{paavirkningsgrad}\", \n",
    "                          \"BORDERS\", \n",
    "                          \"\")\n",
    "\n",
    "    #Legge til felt i atributt-tabellen til de ulike påvirkningsgradene, for å tildele verdier for nedbør\n",
    "    arcpy.management.AddField(f\"Frstd_{paavirkningsgrad}\", \n",
    "                              \"verdi\", \n",
    "                              \"LONG\", \n",
    "                              \"\", \"\", \"\", \"\", \n",
    "                              \"NULLABLE\", \n",
    "                              \"NON_REQUIRED\", \n",
    "                              \"\")\n",
    "    \n",
    "    #Definerer atributt-tabeller og felter\n",
    "    attributt_paavirkningsgrad = f\"Frstd_{paavirkningsgrad}\"\n",
    "    felt = ['OBJECTID', 'verdi', 'Shape_Area']\n",
    "        \n",
    "    #Finne den maksimale Shape_Area-verdien\n",
    "    max_shape_area = max(row[2] for row in arcpy.da.SearchCursor(attributt_paavirkningsgrad, felt))\n",
    "\n",
    "    #Tildele verdier til nytt felt, verdien 100 gis til områder med grunnforurensning og verdien 0 hvis ikke\n",
    "    with arcpy.da.UpdateCursor(attributt_paavirkningsgrad, felt) as cursor:\n",
    "        for row in cursor:\n",
    "            if row[2] == max_shape_area:\n",
    "                row[1] = 0\n",
    "            else:\n",
    "                row[1] = 100\n",
    "            cursor.updateRow(row)\n",
    "            \n",
    "    #lage rsterlag for hver av påvirkningsgradene\n",
    "    arcpy.conversion.FeatureToRaster(f\"Frstd_{paavirkningsgrad}\", \n",
    "                                     \"verdi\", \n",
    "                                     f\"r{paavirkningsgrad}\", \n",
    "                                     1)"
   ]
  },
  {
   "cell_type": "code",
   "execution_count": 22,
   "metadata": {},
   "outputs": [],
   "source": [
    "#Finne drenerningsakkumulasjonen med startpunkt gitt i de ulike påvirkningsgradene\n",
    "for paavirkningsgrad in paavirkningsgrader:\n",
    "    arcpy.gp.FlowAccumulation_sa(\"rFlowDir\", \n",
    "                                 f\"rFlowAcc_{paavirkningsgrad}\", \n",
    "                                 f\"r{paavirkningsgrad}\", \n",
    "                                 \"INTEGER\", \n",
    "                                 \"D8\")"
   ]
  },
  {
   "cell_type": "markdown",
   "metadata": {},
   "source": [
    "## Steg 5: Sette terskelverdi"
   ]
  },
  {
   "cell_type": "code",
   "execution_count": 1,
   "metadata": {},
   "outputs": [],
   "source": [
    "#Reklassifisere verdiene for drenerningslinjer\n",
    "##kan ikke skrive som løkke for å få riktig navn i \"contents\"\n",
    "rFlowAcc_GF3 = arcpy.Raster(\"rFlowAcc_GF3\")\n",
    "max_value = rFlowAcc_GF3.maximum\n",
    "rFlowAcc5_GF3 = arcpy.sa.Reclassify(rFlowAcc_GF3, \"Value\", f\"0 5000 NODATA;5000 {max_value} 1\", \"DATA\")\n",
    "rFlowAcc5_GF3.save(\"rFlowAcc5_GF3\")\n",
    "\n",
    "rFlowAcc_GF2 = arcpy.Raster(\"rFlowAcc_GF2\")\n",
    "max_value = rFlowAcc_GF2.maximum\n",
    "rFlowAcc5_GF2 = arcpy.sa.Reclassify(rFlowAcc_GF2, \"Value\", f\"0 5000 NODATA;5000 {max_value} 1\", \"DATA\")\n",
    "rFlowAcc5_GF2.save(\"rFlowAcc5_GF2\")\n",
    "\n",
    "rFlowAcc_GF1 = arcpy.Raster(\"rFlowAcc_GF1\")\n",
    "max_value = rFlowAcc_GF1.maximum\n",
    "rFlowAcc5_GF1 = arcpy.sa.Reclassify(rFlowAcc_GF1, \"Value\", f\"0 5000 NODATA;5000 {max_value} 1\", \"DATA\")\n",
    "rFlowAcc5_GF1.save(\"rFlowAcc5_GF1\")\n",
    "\n",
    "rFlowAcc_GFX = arcpy.Raster(\"rFlowAcc_GFX\")\n",
    "max_value = rFlowAcc_GFX.maximum\n",
    "rFlowAcc5_GFX = arcpy.sa.Reclassify(rFlowAcc_GFX, \"Value\", f\"0 5000 NODATA;5000 {max_value} 1\", \"DATA\")\n",
    "rFlowAcc5_GFX.save(\"rFlowAcc5_GFX\")"
   ]
  },
  {
   "cell_type": "markdown",
   "metadata": {
    "heading_collapsed": true
   },
   "source": [
    "## Steg 6: Lage linjetema for dreneringslinjer"
   ]
  },
  {
   "cell_type": "code",
   "execution_count": 4,
   "metadata": {
    "hidden": true
   },
   "outputs": [],
   "source": [
    "#Gjør om drenerningslinjer fra rasterlag til linjelag\n",
    "for paavirkningsgrad in paavirkningsgrader:\n",
    "    arcpy.sa.StreamToFeature(in_stream_raster= f\"rFlowAcc5_{paavirkningsgrad}\", \n",
    "                             in_flow_direction_raster= \"rFlowDir\", \n",
    "                             out_polyline_features= f\"drenlinje_{paavirkningsgrad}\", \n",
    "                             simplify =\"SIMPLIFY\")"
   ]
  },
  {
   "cell_type": "markdown",
   "metadata": {},
   "source": [
    "# Del 2"
   ]
  },
  {
   "cell_type": "code",
   "execution_count": 12,
   "metadata": {},
   "outputs": [],
   "source": [
    "paavirkningsgrader = ['GF3', 'GF2', 'GF1', 'GFX']\n",
    "\n",
    "saarbare = [\"Badepls\", \"Beiteomr\", \"Bygg\", \"DrikkOverflate\", \"Jordbruk\", \"Kulturlandskp\",\n",
    "            \"NattypNiN\", \"Naturtyp13\", \"SikraFriOm\", \"Sti5\", \"Elv\", \"Hav\"]"
   ]
  },
  {
   "cell_type": "markdown",
   "metadata": {},
   "source": [
    "## Steg 7: koble sammen drenringslinjer og grunnforurensning"
   ]
  },
  {
   "cell_type": "code",
   "execution_count": 6,
   "metadata": {},
   "outputs": [],
   "source": [
    "#lage lag for alle start noder til linjene\n",
    "#deretter intersecte startnoder med grunnforurensningene\n",
    "for paavirkningsgrad in paavirkningsgrader:\n",
    "    arcpy.management.FeatureVerticesToPoints(f\"drenlinje_{paavirkningsgrad}\", \n",
    "                                             f\"FromNode_{paavirkningsgrad}_m\", \n",
    "                                             \"START\")\n",
    "\n",
    "    arcpy.analysis.Intersect(f\"FromNode_{paavirkningsgrad}_m #;{paavirkningsgrad} #\", \n",
    "                             f\"FromNode_{paavirkningsgrad}\", \n",
    "                             \"ALL\", \n",
    "                             None, \n",
    "                             \"POINT\")"
   ]
  },
  {
   "cell_type": "code",
   "execution_count": 15,
   "metadata": {},
   "outputs": [],
   "source": [
    "from collections import deque \n",
    "\n",
    "def bfs_nedstrom(start_punkt_from_node, start_punkt_to_node, dreneringslinjer):\n",
    "    \"\"\"\n",
    "    Gjør et bredde-først-søk (BFS) nedstrøms fra et gitt startpunkt.\n",
    "\n",
    "    Parametere:\n",
    "    start_punkt_from_node (int): \"from_node\" til start linja.\n",
    "    start_punkt_to_node (int): \"to_node\" til start linja.\n",
    "    dreneringslinjer (str): Linjelaget vi vil bruke for å finne nedstrømslinjer.\n",
    "\n",
    "    Returns:\n",
    "    arcpy.Polyline: En linje fra startpunkt til endepunkt nedstrøms.\n",
    "    \"\"\"\n",
    "    # En dict for å lagre linje shape og to_node med from_node som nøkkel\n",
    "    linje_dict = {}\n",
    "\n",
    "    # Går gjennom alle linjene og lager nøkkel - verdi par\n",
    "    with arcpy.da.SearchCursor(dreneringslinjer, [\"from_node\", \"to_node\", \"Shape@\"]) as cursor:\n",
    "        for row in cursor:\n",
    "            # Leser ut verdier fra attributtabellen\n",
    "            from_node = row[0]\n",
    "            to_node = row[1]\n",
    "            shape = row[2]\n",
    "            # Legg til i linje_dict\n",
    "            linje_dict[from_node] = [shape, to_node]\n",
    "\n",
    "    # Lager en kø og legger til to_node til start linja\n",
    "    linje_ko = deque([start_punkt_to_node])\n",
    "\n",
    "    # Legger til start linja i leste over nedstrømslinjer\n",
    "    start_linje = linje_dict[start_punkt_from_node][0]\n",
    "    resultat_linjer = [start_linje]\n",
    "\n",
    "    # Traverserer linjelaget og finner alle tilknyttede nedstrømslinjer med bfs\n",
    "    while linje_ko:\n",
    "        # Henter den noden som er først i køen, dette er en from_node\n",
    "        soke_node = linje_ko.popleft()\n",
    "        \n",
    "        # Sjekker om linja fortsetter\n",
    "        if soke_node in linje_dict:\n",
    "            # Henter ut nedstrømslinjen fra linje_dict og legger den til i resultat_linjer\n",
    "            linje = linje_dict[soke_node][0]\n",
    "            resultat_linjer.append(linje)\n",
    "            \n",
    "            # Henter ut to_noden til linja vi jobber med\n",
    "            to_node = linje_dict[soke_node][1]\n",
    "            \n",
    "            # Sjekker om enden på linja er koblet til nye nedstrømslinjer\n",
    "            if to_node in linje_dict:\n",
    "                # Legger til to_noden i køen for videre søk\n",
    "                linje_ko.append(to_node)\n",
    "                \n",
    "    # BFS er ferdig og hele nedstrømslinja fra start_punkt_from_node er funnet\n",
    "    # Slår sammen alle dellinjene\n",
    "    sammenslaatt_linje_array = arcpy.Array()\n",
    "    for linje in resultat_linjer:\n",
    "        sammenslaatt_linje_array.extend(linje)\n",
    "\n",
    "    # Endre datatype til Polyline\n",
    "    sammenslaatt_linje = arcpy.Polyline(sammenslaatt_linje_array)\n",
    "\n",
    "    # Så returnerer vi den sammenslåtte linja\n",
    "    return sammenslaatt_linje\n"
   ]
  },
  {
   "cell_type": "code",
   "execution_count": 16,
   "metadata": {},
   "outputs": [],
   "source": [
    "for paavirkningsgrad in paavirkningsgrader:\n",
    "    # Definer output laget\n",
    "    resultat_lag = f\"Nedstrom_{paavirkningsgrad}\"\n",
    "    \n",
    "    # Lag feature class for output laget og legg til felt for FID_grunnforurensning\n",
    "    arcpy.management.CreateFeatureclass(resultat_gdb, \n",
    "                                        resultat_lag, \n",
    "                                        \"POLYLINE\", \n",
    "                                        None, \n",
    "                                        \"DISABLED\", \n",
    "                                        \"DISABLED\", \n",
    "                                        ETRS_1989_UTM_Zone_32N, \n",
    "                                        \"\", 0, 0, 0, \"\")\n",
    "    \n",
    "    arcpy.management.AddField(resultat_lag, \n",
    "                              f\"FID_{paavirkningsgrad}\", \n",
    "                              \"SHORT\")\n",
    "    \n",
    "    # Lag en cursor for å legge til verdier i output laget\n",
    "    insert_cursor = arcpy.da.InsertCursor(resultat_lag, \n",
    "                                          [\"Shape@\", f\"FID_{paavirkningsgrad}\"]) \n",
    "    \n",
    "    # Linjelaget vi skal undersøke\n",
    "    dreneringslinjer = f\"drenlinje_{paavirkningsgrad}\"\n",
    "    \n",
    "    # Laget med alle start punktene for nedstrømslinjene vi vil ha\n",
    "    from_node_lag = f\"FromNode_{paavirkningsgrad}\"\n",
    "    \n",
    "    # Gå gjennom alle start punktene \n",
    "    with arcpy.da.SearchCursor(from_node_lag, \n",
    "                               [\"to_node\", \"from_node\", \n",
    "                                f\"FID_{paavirkningsgrad}\", \n",
    "                                \"OID@\"]) as cursor:\n",
    "        for row in cursor:\n",
    "            # Les verdier fra attributtabellen\n",
    "            to_node = row[0]\n",
    "            from_node = row[1]\n",
    "            fid_paavirkningsgrad = row[2]\n",
    "            \n",
    "            # Finn nedstrømslinje fra startpunkt med BFS algoritme\n",
    "            sammenslaatt_linje = bfs_nedstrom(from_node, to_node, dreneringslinjer)\n",
    "            \n",
    "            # Legg til den sammenslåtte linja med tilhørende fid_GF i output laget\n",
    "            insert_cursor.insertRow((sammenslaatt_linje, fid_paavirkningsgrad))\n",
    "            \n",
    "    # Slett insert cursoren for å unngå feilinnsettinger\n",
    "    del insert_cursor"
   ]
  },
  {
   "cell_type": "code",
   "execution_count": 17,
   "metadata": {},
   "outputs": [],
   "source": [
    "#Dissolve linjene basert på gf \n",
    "#slik at hver gf har en rad i attributt-tabellen\n",
    "\n",
    "for paavirkningsgrad in paavirkningsgrader:\n",
    "    arcpy.management.Dissolve(f\"Nedstrom_{paavirkningsgrad}\", \n",
    "                             f\"saarbar_{paavirkningsgrad}\", \n",
    "                              f\"FID_{paavirkningsgrad}\", \n",
    "                              None, \n",
    "                              \"MULTI_PART\", \n",
    "                              \"DISSOLVE_LINES\", \n",
    "                              \"\")"
   ]
  },
  {
   "cell_type": "markdown",
   "metadata": {},
   "source": [
    "## Steg 8: Legge til nye felt i attributt-tabellen for analyse"
   ]
  },
  {
   "cell_type": "code",
   "execution_count": 18,
   "metadata": {},
   "outputs": [],
   "source": [
    "#her legger jeg til et felt i atributt-tabellen til de ulike lagene med grunnforurensning (som er koblet til dreneringslinejr)\n",
    "#dette for å senere kunne gi koden 1 eller 0 om de overlapper eller ikke\n",
    "\n",
    "\n",
    "#Legg til felt for hvert av de sårbare områdene i tabellen til dreneringslinjene\n",
    "\n",
    "for paavirkningsgrad in paavirkningsgrader:\n",
    "    arcpy.management.AddField(f\"saarbar_{paavirkningsgrad}\", \n",
    "                              \"Sum\", \n",
    "                              \"SHORT\")\n",
    "    \n",
    "    for saarbar in saarbare:\n",
    "        arcpy.management.AddField(f\"saarbar_{paavirkningsgrad}\", \n",
    "                                  saarbar, \n",
    "                                  \"SHORT\")"
   ]
  },
  {
   "cell_type": "markdown",
   "metadata": {},
   "source": [
    "## Steg 9: Overlappsanalyse mellom sårbare områder og GF, koding av attributt-tabell"
   ]
  },
  {
   "cell_type": "code",
   "execution_count": 19,
   "metadata": {},
   "outputs": [
    {
     "name": "stdout",
     "output_type": "stream",
     "text": [
      "Jobber med GF3 og Badepls\n",
      "Jobber med GF3 og Beiteomr\n",
      "Jobber med GF3 og Bygg\n",
      "Jobber med GF3 og DrikkOverflate\n",
      "Jobber med GF3 og Jordbruk\n",
      "Jobber med GF3 og Kulturlandskp\n",
      "Jobber med GF3 og NattypNiN\n",
      "Jobber med GF3 og Naturtyp13\n",
      "Jobber med GF3 og SikraFriOm\n",
      "Jobber med GF3 og Sti5\n",
      "Jobber med GF3 og Elv\n",
      "Jobber med GF3 og Hav\n",
      "Jobber med GF2 og Badepls\n",
      "Jobber med GF2 og Beiteomr\n",
      "Jobber med GF2 og Bygg\n",
      "Jobber med GF2 og DrikkOverflate\n",
      "Jobber med GF2 og Jordbruk\n",
      "Jobber med GF2 og Kulturlandskp\n",
      "Jobber med GF2 og NattypNiN\n",
      "Jobber med GF2 og Naturtyp13\n",
      "Jobber med GF2 og SikraFriOm\n",
      "Jobber med GF2 og Sti5\n",
      "Jobber med GF2 og Elv\n",
      "Jobber med GF2 og Hav\n",
      "Jobber med GF1 og Badepls\n",
      "Jobber med GF1 og Beiteomr\n",
      "Jobber med GF1 og Bygg\n",
      "Jobber med GF1 og DrikkOverflate\n",
      "Jobber med GF1 og Jordbruk\n",
      "Jobber med GF1 og Kulturlandskp\n",
      "Jobber med GF1 og NattypNiN\n",
      "Jobber med GF1 og Naturtyp13\n",
      "Jobber med GF1 og SikraFriOm\n",
      "Jobber med GF1 og Sti5\n",
      "Jobber med GF1 og Elv\n",
      "Jobber med GF1 og Hav\n",
      "Jobber med GFX og Badepls\n",
      "Jobber med GFX og Beiteomr\n",
      "Jobber med GFX og Bygg\n",
      "Jobber med GFX og DrikkOverflate\n",
      "Jobber med GFX og Jordbruk\n",
      "Jobber med GFX og Kulturlandskp\n",
      "Jobber med GFX og NattypNiN\n",
      "Jobber med GFX og Naturtyp13\n",
      "Jobber med GFX og SikraFriOm\n",
      "Jobber med GFX og Sti5\n",
      "Jobber med GFX og Elv\n",
      "Jobber med GFX og Hav\n"
     ]
    }
   ],
   "source": [
    "#Finne hvilke grunnforurensinger som kan påvirke mest, og derfor bør passes ekstra på\n",
    "#dersom de ulike dreneringslinjene overlapper med en sårbarhet så skal den dreneringlinjen får 1 i det tilsvarende feltet for denne sårbarheten i attributt-tabellen\n",
    "#dersom denne dreneringslinjen og sårbarheten ikke overlapper skal de få 0\n",
    "\n",
    "for paavirkningsgrad in paavirkningsgrader:\n",
    "    for saarbar in saarbare:\n",
    "        print(f\"Jobber med {paavirkningsgrad} og {saarbar}\")\n",
    "        with arcpy.da.UpdateCursor(f\"saarbar_{paavirkningsgrad}\", [\"SHAPE@\", saarbar, \"Sum\"]) as cursor:\n",
    "            for row in cursor:\n",
    "                dreneringslinje = row[0]\n",
    "                arcpy.management.SelectLayerByLocation(f\"{saarbar}_frstd\", \"INTERSECT\", dreneringslinje)\n",
    "                antall_intersections = int(arcpy.management.GetCount(f\"{saarbar}_frstd\")[0])\n",
    "                if row[2] is None:\n",
    "                    row[2] = 0 \n",
    "                if antall_intersections > 0:\n",
    "                    row[1] = 1\n",
    "                    row[2] += 1\n",
    "                else:\n",
    "                    row[1] = 0\n",
    "                \n",
    "                cursor.updateRow(row)\n",
    "                arcpy.management.SelectLayerByAttribute(f\"{saarbar}_frstd\", \"CLEAR_SELECTION\")"
   ]
  },
  {
   "cell_type": "markdown",
   "metadata": {},
   "source": [
    "# Visualisering"
   ]
  },
  {
   "cell_type": "code",
   "execution_count": 20,
   "metadata": {},
   "outputs": [],
   "source": [
    "#Slå sammen polygonene for grunnforurensning, med dreneringslinjene fra grunnforurensningene\n",
    "#for å symbolisere den totale summen av påvirkning\n",
    "\n",
    "felter = [*saarbare, \"Sum\"]\n",
    "\n",
    "for paavirkningsgrad in paavirkningsgrader:\n",
    "    arcpy.management.JoinField(f\"{paavirkningsgrad}\", \n",
    "                               \"OBJECTID\", \n",
    "                               f\"saarbar_{paavirkningsgrad}\", \n",
    "                               f\"FID_{paavirkningsgrad}\", \n",
    "                               felter)"
   ]
  },
  {
   "cell_type": "code",
   "execution_count": 14,
   "metadata": {},
   "outputs": [],
   "source": [
    "#Finne hvilke sårbare områder som overlapper med drenerningslinjer fra grunnforurensningslokasjoner\n",
    "\n",
    "for paavirkningsgrad in paavirkningsgrader:\n",
    "    for saarbar in saarbare:\n",
    "        Resultat = arcpy.management.SelectLayerByLocation(fr\"{saarbar}_frstd\", \"INTERSECT\", f\"saarbar_{paavirkningsgrad}\", None, \"NEW_SELECTION\", \"NOT_INVERT\")\n",
    "        arcpy.conversion.ExportFeatures(fr\"{saarbar}_frstd\", f\"GF{paavirkningsgrad[-1]}_{saarbar}\", \"\", \"NOT_USE_ALIAS\", \"\", None)\n",
    "        arcpy.management.SelectLayerByAttribute(f\"{paavirkningsgrad}_{saarbar}\", \"CLEAR_SELECTION\")"
   ]
  },
  {
   "cell_type": "code",
   "execution_count": null,
   "metadata": {},
   "outputs": [],
   "source": []
  }
 ],
 "metadata": {
  "kernelspec": {
   "display_name": "ArcGISPro",
   "language": "Python",
   "name": "python3"
  },
  "language_info": {
   "file_extension": ".py",
   "name": "python",
   "version": "3"
  }
 },
 "nbformat": 4,
 "nbformat_minor": 2
}
